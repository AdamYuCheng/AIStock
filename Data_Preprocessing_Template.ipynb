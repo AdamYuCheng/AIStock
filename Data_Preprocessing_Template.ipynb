{
 "cells": [
  {
   "cell_type": "code",
   "execution_count": 2,
   "metadata": {
    "collapsed": true
   },
   "outputs": [],
   "source": [
    "import numpy as np\n",
    "import matplotlib.pyplot as plt\n",
    "import pandas as pd\n",
    "import os\n",
    "np.set_printoptions(precision=3, suppress=True)"
   ]
  },
  {
   "cell_type": "code",
   "execution_count": 3,
   "metadata": {
    "collapsed": true
   },
   "outputs": [],
   "source": [
    "PER_STOCK_DATA_FOLDER_NAME = 'stock_data'\n",
    "STOCK_FILE_NAME = \"{STOCK_ID}.csv\"\n",
    "REQUIRED_COLS_FOR_TRAINING = ['成交股數','開盤價', '最高價', '最低價', '收盤價']"
   ]
  },
  {
   "cell_type": "code",
   "execution_count": 4,
   "metadata": {
    "collapsed": true
   },
   "outputs": [],
   "source": [
    "def read_csv(stock_id):\n",
    "    file_name = STOCK_FILE_NAME.format(STOCK_ID=stock_id)\n",
    "    file_path = os.path.join(PER_STOCK_DATA_FOLDER_NAME, file_name)\n",
    "    with open(file_path) as f:\n",
    "        df = pd.read_csv(f)\n",
    "        return df"
   ]
  },
  {
   "cell_type": "code",
   "execution_count": 5,
   "metadata": {
    "collapsed": true
   },
   "outputs": [],
   "source": [
    "stock_df_orig = read_csv('1419')"
   ]
  },
  {
   "cell_type": "markdown",
   "metadata": {},
   "source": [
    "# 資料概觀"
   ]
  },
  {
   "cell_type": "code",
   "execution_count": 6,
   "metadata": {},
   "outputs": [
    {
     "name": "stdout",
     "output_type": "stream",
     "text": [
      "<class 'pandas.core.frame.DataFrame'>\n",
      "RangeIndex: 3070 entries, 0 to 3069\n",
      "Data columns (total 8 columns):\n",
      "Unnamed: 0    3070 non-null int64\n",
      "證券代號          3070 non-null int64\n",
      "成交股數          3070 non-null int64\n",
      "開盤價           3070 non-null object\n",
      "最高價           3070 non-null object\n",
      "最低價           3070 non-null object\n",
      "收盤價           3070 non-null object\n",
      "日期            3070 non-null int64\n",
      "dtypes: int64(4), object(4)\n",
      "memory usage: 192.0+ KB\n"
     ]
    }
   ],
   "source": [
    "stock_df_orig.info()"
   ]
  },
  {
   "cell_type": "markdown",
   "metadata": {},
   "source": [
    "除了數字外， 開/高/低/收 columns的data type 為 object，可能有非數值的資料，根據raw data，發現當天盤中若沒有成交資料，上述columns的資料會被填入 '--'"
   ]
  },
  {
   "cell_type": "markdown",
   "metadata": {},
   "source": [
    "# 資料整理"
   ]
  },
  {
   "cell_type": "code",
   "execution_count": 7,
   "metadata": {},
   "outputs": [
    {
     "data": {
      "text/html": [
       "<div>\n",
       "<style>\n",
       "    .dataframe thead tr:only-child th {\n",
       "        text-align: right;\n",
       "    }\n",
       "\n",
       "    .dataframe thead th {\n",
       "        text-align: left;\n",
       "    }\n",
       "\n",
       "    .dataframe tbody tr th {\n",
       "        vertical-align: top;\n",
       "    }\n",
       "</style>\n",
       "<table border=\"1\" class=\"dataframe\">\n",
       "  <thead>\n",
       "    <tr style=\"text-align: right;\">\n",
       "      <th></th>\n",
       "      <th>Unnamed: 0</th>\n",
       "      <th>證券代號</th>\n",
       "      <th>成交股數</th>\n",
       "      <th>開盤價</th>\n",
       "      <th>最高價</th>\n",
       "      <th>最低價</th>\n",
       "      <th>收盤價</th>\n",
       "      <th>日期</th>\n",
       "    </tr>\n",
       "  </thead>\n",
       "  <tbody>\n",
       "    <tr>\n",
       "      <th>2445</th>\n",
       "      <td>186861</td>\n",
       "      <td>1419</td>\n",
       "      <td>11</td>\n",
       "      <td>--</td>\n",
       "      <td>--</td>\n",
       "      <td>--</td>\n",
       "      <td>--</td>\n",
       "      <td>20151105</td>\n",
       "    </tr>\n",
       "    <tr>\n",
       "      <th>2657</th>\n",
       "      <td>162457</td>\n",
       "      <td>1419</td>\n",
       "      <td>0</td>\n",
       "      <td>--</td>\n",
       "      <td>--</td>\n",
       "      <td>--</td>\n",
       "      <td>--</td>\n",
       "      <td>20160914</td>\n",
       "    </tr>\n",
       "    <tr>\n",
       "      <th>2726</th>\n",
       "      <td>229488</td>\n",
       "      <td>1419</td>\n",
       "      <td>0</td>\n",
       "      <td>--</td>\n",
       "      <td>--</td>\n",
       "      <td>--</td>\n",
       "      <td>--</td>\n",
       "      <td>20161227</td>\n",
       "    </tr>\n",
       "    <tr>\n",
       "      <th>2754</th>\n",
       "      <td>23791</td>\n",
       "      <td>1419</td>\n",
       "      <td>336</td>\n",
       "      <td>--</td>\n",
       "      <td>--</td>\n",
       "      <td>--</td>\n",
       "      <td>--</td>\n",
       "      <td>20170214</td>\n",
       "    </tr>\n",
       "    <tr>\n",
       "      <th>2758</th>\n",
       "      <td>27747</td>\n",
       "      <td>1419</td>\n",
       "      <td>765</td>\n",
       "      <td>--</td>\n",
       "      <td>--</td>\n",
       "      <td>--</td>\n",
       "      <td>--</td>\n",
       "      <td>20170218</td>\n",
       "    </tr>\n",
       "  </tbody>\n",
       "</table>\n",
       "</div>"
      ],
      "text/plain": [
       "      Unnamed: 0  證券代號  成交股數 開盤價 最高價 最低價 收盤價        日期\n",
       "2445      186861  1419    11  --  --  --  --  20151105\n",
       "2657      162457  1419     0  --  --  --  --  20160914\n",
       "2726      229488  1419     0  --  --  --  --  20161227\n",
       "2754       23791  1419   336  --  --  --  --  20170214\n",
       "2758       27747  1419   765  --  --  --  --  20170218"
      ]
     },
     "execution_count": 7,
     "metadata": {},
     "output_type": "execute_result"
    }
   ],
   "source": [
    "# 列出含有 '--' 的columns\n",
    "invalid_value_cols = stock_df_orig['開盤價'] == '--'\n",
    "stock_df_orig.loc[invalid_value_cols].head()"
   ]
  },
  {
   "cell_type": "code",
   "execution_count": 8,
   "metadata": {},
   "outputs": [
    {
     "data": {
      "text/html": [
       "<div>\n",
       "<style>\n",
       "    .dataframe thead tr:only-child th {\n",
       "        text-align: right;\n",
       "    }\n",
       "\n",
       "    .dataframe thead th {\n",
       "        text-align: left;\n",
       "    }\n",
       "\n",
       "    .dataframe tbody tr th {\n",
       "        vertical-align: top;\n",
       "    }\n",
       "</style>\n",
       "<table border=\"1\" class=\"dataframe\">\n",
       "  <thead>\n",
       "    <tr style=\"text-align: right;\">\n",
       "      <th></th>\n",
       "      <th>Unnamed: 0</th>\n",
       "      <th>證券代號</th>\n",
       "      <th>成交股數</th>\n",
       "      <th>開盤價</th>\n",
       "      <th>最高價</th>\n",
       "      <th>最低價</th>\n",
       "      <th>收盤價</th>\n",
       "      <th>日期</th>\n",
       "    </tr>\n",
       "  </thead>\n",
       "  <tbody>\n",
       "    <tr>\n",
       "      <th>2445</th>\n",
       "      <td>186861</td>\n",
       "      <td>1419</td>\n",
       "      <td>11</td>\n",
       "      <td>NaN</td>\n",
       "      <td>NaN</td>\n",
       "      <td>NaN</td>\n",
       "      <td>NaN</td>\n",
       "      <td>20151105</td>\n",
       "    </tr>\n",
       "    <tr>\n",
       "      <th>2657</th>\n",
       "      <td>162457</td>\n",
       "      <td>1419</td>\n",
       "      <td>0</td>\n",
       "      <td>NaN</td>\n",
       "      <td>NaN</td>\n",
       "      <td>NaN</td>\n",
       "      <td>NaN</td>\n",
       "      <td>20160914</td>\n",
       "    </tr>\n",
       "    <tr>\n",
       "      <th>2726</th>\n",
       "      <td>229488</td>\n",
       "      <td>1419</td>\n",
       "      <td>0</td>\n",
       "      <td>NaN</td>\n",
       "      <td>NaN</td>\n",
       "      <td>NaN</td>\n",
       "      <td>NaN</td>\n",
       "      <td>20161227</td>\n",
       "    </tr>\n",
       "    <tr>\n",
       "      <th>2754</th>\n",
       "      <td>23791</td>\n",
       "      <td>1419</td>\n",
       "      <td>336</td>\n",
       "      <td>NaN</td>\n",
       "      <td>NaN</td>\n",
       "      <td>NaN</td>\n",
       "      <td>NaN</td>\n",
       "      <td>20170214</td>\n",
       "    </tr>\n",
       "    <tr>\n",
       "      <th>2758</th>\n",
       "      <td>27747</td>\n",
       "      <td>1419</td>\n",
       "      <td>765</td>\n",
       "      <td>NaN</td>\n",
       "      <td>NaN</td>\n",
       "      <td>NaN</td>\n",
       "      <td>NaN</td>\n",
       "      <td>20170218</td>\n",
       "    </tr>\n",
       "  </tbody>\n",
       "</table>\n",
       "</div>"
      ],
      "text/plain": [
       "      Unnamed: 0  證券代號  成交股數  開盤價  最高價  最低價  收盤價        日期\n",
       "2445      186861  1419    11  NaN  NaN  NaN  NaN  20151105\n",
       "2657      162457  1419     0  NaN  NaN  NaN  NaN  20160914\n",
       "2726      229488  1419     0  NaN  NaN  NaN  NaN  20161227\n",
       "2754       23791  1419   336  NaN  NaN  NaN  NaN  20170214\n",
       "2758       27747  1419   765  NaN  NaN  NaN  NaN  20170218"
      ]
     },
     "execution_count": 8,
     "metadata": {},
     "output_type": "execute_result"
    }
   ],
   "source": [
    "#利用 pd.to_numeric 將整個data frame轉換成numeric type，並將無法轉換的 data cell，填入nan\n",
    "stock_df_processed = stock_df_orig.apply(pd.to_numeric, errors='coerce')\n",
    "stock_df_processed.loc[invalid_value_cols].head()"
   ]
  },
  {
   "cell_type": "code",
   "execution_count": 9,
   "metadata": {},
   "outputs": [
    {
     "data": {
      "text/html": [
       "<div>\n",
       "<style>\n",
       "    .dataframe thead tr:only-child th {\n",
       "        text-align: right;\n",
       "    }\n",
       "\n",
       "    .dataframe thead th {\n",
       "        text-align: left;\n",
       "    }\n",
       "\n",
       "    .dataframe tbody tr th {\n",
       "        vertical-align: top;\n",
       "    }\n",
       "</style>\n",
       "<table border=\"1\" class=\"dataframe\">\n",
       "  <thead>\n",
       "    <tr style=\"text-align: right;\">\n",
       "      <th></th>\n",
       "      <th>Unnamed: 0</th>\n",
       "      <th>證券代號</th>\n",
       "      <th>成交股數</th>\n",
       "      <th>開盤價</th>\n",
       "      <th>最高價</th>\n",
       "      <th>最低價</th>\n",
       "      <th>收盤價</th>\n",
       "      <th>日期</th>\n",
       "    </tr>\n",
       "  </thead>\n",
       "  <tbody>\n",
       "  </tbody>\n",
       "</table>\n",
       "</div>"
      ],
      "text/plain": [
       "Empty DataFrame\n",
       "Columns: [Unnamed: 0, 證券代號, 成交股數, 開盤價, 最高價, 最低價, 收盤價, 日期]\n",
       "Index: []"
      ]
     },
     "execution_count": 9,
     "metadata": {},
     "output_type": "execute_result"
    }
   ],
   "source": [
    "stock_df_processed = stock_df_processed.dropna(how='any') \n",
    "row_with_nan = stock_df_processed.isnull().any(axis=1)\n",
    "stock_df_processed[row_with_nan]"
   ]
  },
  {
   "cell_type": "code",
   "execution_count": 10,
   "metadata": {},
   "outputs": [
    {
     "data": {
      "text/html": [
       "<div>\n",
       "<style>\n",
       "    .dataframe thead tr:only-child th {\n",
       "        text-align: right;\n",
       "    }\n",
       "\n",
       "    .dataframe thead th {\n",
       "        text-align: left;\n",
       "    }\n",
       "\n",
       "    .dataframe tbody tr th {\n",
       "        vertical-align: top;\n",
       "    }\n",
       "</style>\n",
       "<table border=\"1\" class=\"dataframe\">\n",
       "  <thead>\n",
       "    <tr style=\"text-align: right;\">\n",
       "      <th></th>\n",
       "      <th>Unnamed: 0</th>\n",
       "      <th>證券代號</th>\n",
       "      <th>成交股數</th>\n",
       "      <th>開盤價</th>\n",
       "      <th>最高價</th>\n",
       "      <th>最低價</th>\n",
       "      <th>收盤價</th>\n",
       "      <th>日期</th>\n",
       "    </tr>\n",
       "  </thead>\n",
       "  <tbody>\n",
       "    <tr>\n",
       "      <th>0</th>\n",
       "      <td>69</td>\n",
       "      <td>1419</td>\n",
       "      <td>2435.0</td>\n",
       "      <td>19.45</td>\n",
       "      <td>20.40</td>\n",
       "      <td>19.15</td>\n",
       "      <td>19.80</td>\n",
       "      <td>20080102</td>\n",
       "    </tr>\n",
       "    <tr>\n",
       "      <th>1</th>\n",
       "      <td>785</td>\n",
       "      <td>1419</td>\n",
       "      <td>468.0</td>\n",
       "      <td>19.40</td>\n",
       "      <td>19.80</td>\n",
       "      <td>19.20</td>\n",
       "      <td>19.60</td>\n",
       "      <td>20080103</td>\n",
       "    </tr>\n",
       "    <tr>\n",
       "      <th>2</th>\n",
       "      <td>1500</td>\n",
       "      <td>1419</td>\n",
       "      <td>1804.0</td>\n",
       "      <td>19.40</td>\n",
       "      <td>20.30</td>\n",
       "      <td>19.20</td>\n",
       "      <td>20.05</td>\n",
       "      <td>20080104</td>\n",
       "    </tr>\n",
       "    <tr>\n",
       "      <th>3</th>\n",
       "      <td>2216</td>\n",
       "      <td>1419</td>\n",
       "      <td>1644.0</td>\n",
       "      <td>19.50</td>\n",
       "      <td>20.15</td>\n",
       "      <td>19.05</td>\n",
       "      <td>19.60</td>\n",
       "      <td>20080107</td>\n",
       "    </tr>\n",
       "    <tr>\n",
       "      <th>4</th>\n",
       "      <td>2932</td>\n",
       "      <td>1419</td>\n",
       "      <td>1203.0</td>\n",
       "      <td>19.50</td>\n",
       "      <td>20.30</td>\n",
       "      <td>19.40</td>\n",
       "      <td>19.90</td>\n",
       "      <td>20080108</td>\n",
       "    </tr>\n",
       "  </tbody>\n",
       "</table>\n",
       "</div>"
      ],
      "text/plain": [
       "   Unnamed: 0  證券代號    成交股數    開盤價    最高價    最低價    收盤價        日期\n",
       "0          69  1419  2435.0  19.45  20.40  19.15  19.80  20080102\n",
       "1         785  1419   468.0  19.40  19.80  19.20  19.60  20080103\n",
       "2        1500  1419  1804.0  19.40  20.30  19.20  20.05  20080104\n",
       "3        2216  1419  1644.0  19.50  20.15  19.05  19.60  20080107\n",
       "4        2932  1419  1203.0  19.50  20.30  19.40  19.90  20080108"
      ]
     },
     "execution_count": 10,
     "metadata": {},
     "output_type": "execute_result"
    }
   ],
   "source": [
    "stock_df_processed['成交股數'] = (stock_df_processed['成交股數']/1000).round(0)\n",
    "stock_df_processed.head()"
   ]
  },
  {
   "cell_type": "code",
   "execution_count": 15,
   "metadata": {},
   "outputs": [
    {
     "data": {
      "text/html": [
       "<div>\n",
       "<style>\n",
       "    .dataframe thead tr:only-child th {\n",
       "        text-align: right;\n",
       "    }\n",
       "\n",
       "    .dataframe thead th {\n",
       "        text-align: left;\n",
       "    }\n",
       "\n",
       "    .dataframe tbody tr th {\n",
       "        vertical-align: top;\n",
       "    }\n",
       "</style>\n",
       "<table border=\"1\" class=\"dataframe\">\n",
       "  <thead>\n",
       "    <tr style=\"text-align: right;\">\n",
       "      <th></th>\n",
       "      <th>成交股數</th>\n",
       "      <th>開盤價</th>\n",
       "      <th>最高價</th>\n",
       "      <th>最低價</th>\n",
       "      <th>收盤價</th>\n",
       "    </tr>\n",
       "  </thead>\n",
       "  <tbody>\n",
       "    <tr>\n",
       "      <th>0</th>\n",
       "      <td>2435.0</td>\n",
       "      <td>19.45</td>\n",
       "      <td>20.40</td>\n",
       "      <td>19.15</td>\n",
       "      <td>19.80</td>\n",
       "    </tr>\n",
       "    <tr>\n",
       "      <th>1</th>\n",
       "      <td>468.0</td>\n",
       "      <td>19.40</td>\n",
       "      <td>19.80</td>\n",
       "      <td>19.20</td>\n",
       "      <td>19.60</td>\n",
       "    </tr>\n",
       "    <tr>\n",
       "      <th>2</th>\n",
       "      <td>1804.0</td>\n",
       "      <td>19.40</td>\n",
       "      <td>20.30</td>\n",
       "      <td>19.20</td>\n",
       "      <td>20.05</td>\n",
       "    </tr>\n",
       "    <tr>\n",
       "      <th>3</th>\n",
       "      <td>1644.0</td>\n",
       "      <td>19.50</td>\n",
       "      <td>20.15</td>\n",
       "      <td>19.05</td>\n",
       "      <td>19.60</td>\n",
       "    </tr>\n",
       "    <tr>\n",
       "      <th>4</th>\n",
       "      <td>1203.0</td>\n",
       "      <td>19.50</td>\n",
       "      <td>20.30</td>\n",
       "      <td>19.40</td>\n",
       "      <td>19.90</td>\n",
       "    </tr>\n",
       "  </tbody>\n",
       "</table>\n",
       "</div>"
      ],
      "text/plain": [
       "     成交股數    開盤價    最高價    最低價    收盤價\n",
       "0  2435.0  19.45  20.40  19.15  19.80\n",
       "1   468.0  19.40  19.80  19.20  19.60\n",
       "2  1804.0  19.40  20.30  19.20  20.05\n",
       "3  1644.0  19.50  20.15  19.05  19.60\n",
       "4  1203.0  19.50  20.30  19.40  19.90"
      ]
     },
     "execution_count": 15,
     "metadata": {},
     "output_type": "execute_result"
    }
   ],
   "source": [
    "stock_df = stock_df_processed[REQUIRED_COLS_FOR_TRAINING]\n",
    "stock_df.head()"
   ]
  },
  {
   "cell_type": "code",
   "execution_count": 16,
   "metadata": {},
   "outputs": [],
   "source": [
    "#資料正規化 \n",
    "from sklearn.preprocessing import MinMaxScaler\n",
    "minMaxScaler = MinMaxScaler()\n",
    "stock_min_max = minMaxScaler.fit_transform(stock_df.as_matrix())\n",
    "stock_df = pd.DataFrame(stock_min_max, columns=stock_df.columns)"
   ]
  },
  {
   "cell_type": "code",
   "execution_count": 17,
   "metadata": {},
   "outputs": [
    {
     "data": {
      "text/html": [
       "<div>\n",
       "<style>\n",
       "    .dataframe thead tr:only-child th {\n",
       "        text-align: right;\n",
       "    }\n",
       "\n",
       "    .dataframe thead th {\n",
       "        text-align: left;\n",
       "    }\n",
       "\n",
       "    .dataframe tbody tr th {\n",
       "        vertical-align: top;\n",
       "    }\n",
       "</style>\n",
       "<table border=\"1\" class=\"dataframe\">\n",
       "  <thead>\n",
       "    <tr style=\"text-align: right;\">\n",
       "      <th></th>\n",
       "      <th>成交股數</th>\n",
       "      <th>開盤價</th>\n",
       "      <th>最高價</th>\n",
       "      <th>最低價</th>\n",
       "      <th>收盤價</th>\n",
       "    </tr>\n",
       "  </thead>\n",
       "  <tbody>\n",
       "    <tr>\n",
       "      <th>0</th>\n",
       "      <td>0.080407</td>\n",
       "      <td>0.210000</td>\n",
       "      <td>0.215642</td>\n",
       "      <td>0.215262</td>\n",
       "      <td>0.209302</td>\n",
       "    </tr>\n",
       "    <tr>\n",
       "      <th>1</th>\n",
       "      <td>0.015427</td>\n",
       "      <td>0.208889</td>\n",
       "      <td>0.202235</td>\n",
       "      <td>0.216401</td>\n",
       "      <td>0.204873</td>\n",
       "    </tr>\n",
       "    <tr>\n",
       "      <th>2</th>\n",
       "      <td>0.059562</td>\n",
       "      <td>0.208889</td>\n",
       "      <td>0.213408</td>\n",
       "      <td>0.216401</td>\n",
       "      <td>0.214839</td>\n",
       "    </tr>\n",
       "    <tr>\n",
       "      <th>3</th>\n",
       "      <td>0.054276</td>\n",
       "      <td>0.211111</td>\n",
       "      <td>0.210056</td>\n",
       "      <td>0.212984</td>\n",
       "      <td>0.204873</td>\n",
       "    </tr>\n",
       "    <tr>\n",
       "      <th>4</th>\n",
       "      <td>0.039708</td>\n",
       "      <td>0.211111</td>\n",
       "      <td>0.213408</td>\n",
       "      <td>0.220957</td>\n",
       "      <td>0.211517</td>\n",
       "    </tr>\n",
       "  </tbody>\n",
       "</table>\n",
       "</div>"
      ],
      "text/plain": [
       "       成交股數       開盤價       最高價       最低價       收盤價\n",
       "0  0.080407  0.210000  0.215642  0.215262  0.209302\n",
       "1  0.015427  0.208889  0.202235  0.216401  0.204873\n",
       "2  0.059562  0.208889  0.213408  0.216401  0.214839\n",
       "3  0.054276  0.211111  0.210056  0.212984  0.204873\n",
       "4  0.039708  0.211111  0.213408  0.220957  0.211517"
      ]
     },
     "execution_count": 17,
     "metadata": {},
     "output_type": "execute_result"
    }
   ],
   "source": [
    "stock_df.head()"
   ]
  },
  {
   "cell_type": "code",
   "execution_count": null,
   "metadata": {
    "collapsed": true
   },
   "outputs": [],
   "source": []
  }
 ],
 "metadata": {
  "kernelspec": {
   "display_name": "Python 3",
   "language": "python",
   "name": "python3"
  }
 },
 "nbformat": 4,
 "nbformat_minor": 2
}
