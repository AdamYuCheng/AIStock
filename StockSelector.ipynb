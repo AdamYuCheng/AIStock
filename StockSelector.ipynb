{
 "cells": [
  {
   "cell_type": "code",
   "execution_count": 12,
   "metadata": {
    "collapsed": true
   },
   "outputs": [],
   "source": [
    "import os\n",
    "import pandas as pd\n",
    "import time\n",
    "from pandas import Series, DataFrame\n",
    "from datetime import datetime, timedelta\n",
    "\n",
    "class StockSelector():\n",
    "\n",
    "    STOCK_DATA_FOLDER_NAME = 'twse_history'\n",
    "    PER_STOCK_DATA_FOLDER_NAME = 'stock_data'\n",
    "\n",
    "    HISTORY_FILE_NAME = \"close_price_{YEAR}_fix.csv\"\n",
    "    STOCK_FILE_NAME = \"{STOCK_ID}.csv\"\n",
    "    \n",
    "    SELECT_TWSE_CLOSE_PRICE_TABLE_COLUMNS = \\\n",
    "        ['證券代號', '成交股數', '開盤價', '最高價', '最低價', '收盤價', '日期']\n",
    "\n",
    "    def __init__(self):\n",
    "        self._init_data_folder()\n",
    "\n",
    "    def _init_data_folder(self):\n",
    "        if not os.path.isdir(StockSelector.PER_STOCK_DATA_FOLDER_NAME):\n",
    "            os.mkdir(StockSelector.PER_STOCK_DATA_FOLDER_NAME)\n",
    "\n",
    "    def _read_file(self, year):\n",
    "        file_name = StockSelector.HISTORY_FILE_NAME.format(YEAR=year)\n",
    "        file_path = os.path.join(StockSelector.STOCK_DATA_FOLDER_NAME, file_name)\n",
    "        with open(file_path) as f:\n",
    "            df = pd.read_csv(f)\n",
    "            return df\n",
    "\n",
    "    def sieve_concat(self, since_year, stock_id):\n",
    "        while since_year <= datetime.today().year:\n",
    "            year_df = self._read_file(since_year)\n",
    "            stock_df = year_df[year_df.loc[:, '證券代號'] == stock_id]\n",
    "            stock_df_select = stock_df.loc[:, StockSelector.SELECT_TWSE_CLOSE_PRICE_TABLE_COLUMNS]\n",
    "            ss._write_csv(stock_id, stock_df_select)\n",
    "            since_year += 1\n",
    "        \n",
    "    def _write_csv(self, stock_id, stock_price_dataframe):\n",
    "        file_name = StockSelector.STOCK_FILE_NAME.format(STOCK_ID=stock_id)\n",
    "        file_path = os.path.join(StockSelector.PER_STOCK_DATA_FOLDER_NAME, file_name)\n",
    "        if os.path.isfile(file_path):\n",
    "            with open(file_path, 'a') as f:\n",
    "                stock_price_dataframe.to_csv(f, header=False)\n",
    "        else:\n",
    "            stock_price_dataframe.to_csv(file_path);"
   ]
  },
  {
   "cell_type": "code",
   "execution_count": 14,
   "metadata": {},
   "outputs": [
    {
     "name": "stderr",
     "output_type": "stream",
     "text": [
      "/Users/edwardlu/anaconda/envs/mlstudy/lib/python3.6/site-packages/IPython/core/interactiveshell.py:2862: DtypeWarning: Columns (1,6,7,8,9) have mixed types. Specify dtype option on import or set low_memory=False.\n",
      "  exec(code_obj, self.user_global_ns, self.user_ns)\n",
      "/Users/edwardlu/anaconda/envs/mlstudy/lib/python3.6/site-packages/IPython/core/interactiveshell.py:2862: DtypeWarning: Columns (1,6,7,8,9,12,14) have mixed types. Specify dtype option on import or set low_memory=False.\n",
      "  exec(code_obj, self.user_global_ns, self.user_ns)\n"
     ]
    }
   ],
   "source": [
    "ss = StockSelector()\n",
    "df = ss.sieve_concat(since_year=2008, stock_id='2030')"
   ]
  },
  {
   "cell_type": "code",
   "execution_count": null,
   "metadata": {
    "collapsed": true
   },
   "outputs": [],
   "source": []
  }
 ],
 "metadata": {
  "kernelspec": {
   "display_name": "Python 3",
   "language": "python",
   "name": "python3"
  },
  "language_info": {
   "codemirror_mode": {
    "name": "ipython",
    "version": 3
   },
   "file_extension": ".py",
   "mimetype": "text/x-python",
   "name": "python",
   "nbconvert_exporter": "python",
   "pygments_lexer": "ipython3",
   "version": "3.6.1"
  }
 },
 "nbformat": 4,
 "nbformat_minor": 2
}
