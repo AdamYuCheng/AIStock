{
 "cells": [
  {
   "cell_type": "code",
   "execution_count": 340,
   "metadata": {
    "collapsed": true
   },
   "outputs": [],
   "source": [
    "import numpy as np\n",
    "import matplotlib.pyplot as plt\n",
    "import pandas as pd\n",
    "import os\n",
    "np.set_printoptions(precision=2, suppress=True)"
   ]
  },
  {
   "cell_type": "code",
   "execution_count": 341,
   "metadata": {
    "collapsed": true
   },
   "outputs": [],
   "source": [
    "PER_STOCK_DATA_FOLDER_NAME = 'stock_data'\n",
    "STOCK_FILE_NAME = \"{STOCK_ID}.csv\"\n",
    "REQUIRED_COLS_FOR_TRAINING = ['成交股數','開盤價', '最高價', '最低價', '收盤價', '日期']"
   ]
  },
  {
   "cell_type": "code",
   "execution_count": 374,
   "metadata": {
    "collapsed": true
   },
   "outputs": [],
   "source": [
    "def read_csv(stock_id):\n",
    "    file_name = STOCK_FILE_NAME.format(STOCK_ID=stock_id)\n",
    "    file_path = os.path.join(PER_STOCK_DATA_FOLDER_NAME, file_name)\n",
    "    with open(file_path) as f:\n",
    "        df = pd.read_csv(f)\n",
    "        return df\n",
    "\n",
    "# 命題為預測 n days 區間資料，兩週後的 漲/跌\n",
    "\n",
    "# 取 sliding window 必須包含 (n + 10) days, n days for traing, 10 days for label\n",
    "def sliding_window(data_array, train_duration, label_duration, step_size):\n",
    "    result = []\n",
    "    window_size = train_duration + label_duration\n",
    "    for i in range(0, len(data_array) - window_size + 1, step_size):\n",
    "        window = data_array[i: i + window_size, :]\n",
    "        hstack_window = np.hstack(window)\n",
    "        result.append(hstack_window)\n",
    "    return np.array(result)\n",
    "\n",
    "\n",
    "# 取月資料 train_duration = 20 days), 兩週 (label_duration = 10 days, 90%資料為 training_set (split_percent = 0.9)\n",
    "def split_train_test(data_array, train_duration, label_duration, data_dimension, split_percent):\n",
    "    input_set = []\n",
    "    output_set = []\n",
    "    window_size = train_duration + label_duration\n",
    "    for i in range(data_array.shape[0]):\n",
    "        array_reshape = data_array[[i]].reshape(window_size, data_dimension)\n",
    "        \n",
    "        input_set.append(array_reshape[0:train_duration])\n",
    "        previous_close_price = array_reshape[train_duration-1][4]\n",
    "        latest_close_price = array_reshape[-1][4]\n",
    "        output_set.append(latest_close_price - previous_close_price)\n",
    "    \n",
    "    total_len = data_array.shape[0];\n",
    "    number_train = round(0.9 * total_len)\n",
    "    X_train = np.array(input_set)[0:number_train, :, :]\n",
    "    y_train = np.array(output_set)[0:number_train]\n",
    "    \n",
    "    X_test = np.array(input_set)[number_train:, :, :]\n",
    "    y_test = np.array(output_set)[number_train:]\n",
    "    \n",
    "    return [X_train, y_train, X_test, y_test]"
   ]
  },
  {
   "cell_type": "code",
   "execution_count": 375,
   "metadata": {},
   "outputs": [],
   "source": [
    "stock_df_orig = read_csv('1419')\n",
    "stock_df_processed = stock_df_orig.apply(pd.to_numeric, errors='coerce')\n",
    "stock_df_processed = stock_df_processed.dropna(how='any')\n",
    "stock_df_processed['成交股數'] = (stock_df_processed['成交股數']/1000).round(0)\n",
    "stock_df = stock_df_processed[REQUIRED_COLS_FOR_TRAINING]\n",
    "stock_df.head()\n",
    "stock_array = stock_df.as_matrix()"
   ]
  },
  {
   "cell_type": "code",
   "execution_count": 376,
   "metadata": {},
   "outputs": [
    {
     "data": {
      "text/plain": [
       "(3020, 180)"
      ]
     },
     "execution_count": 376,
     "metadata": {},
     "output_type": "execute_result"
    }
   ],
   "source": [
    "sliding_array = sliding_window(stock_array, 20, 10, 1)\n",
    "sliding_array.shape\n",
    "\n"
   ]
  },
  {
   "cell_type": "markdown",
   "metadata": {},
   "source": [
    "X_train, y_train, X_test, y_test = split_train_test(sliding_array, 20, 10, len(REQUIRED_COLS_FOR_TRAINING), 0.9)"
   ]
  },
  {
   "cell_type": "code",
   "execution_count": 369,
   "metadata": {},
   "outputs": [],
   "source": [
    "\n",
    "    "
   ]
  },
  {
   "cell_type": "code",
   "execution_count": 370,
   "metadata": {},
   "outputs": [],
   "source": []
  },
  {
   "cell_type": "code",
   "execution_count": 360,
   "metadata": {},
   "outputs": [
    {
     "data": {
      "text/plain": [
       "(2718, 20, 6)"
      ]
     },
     "execution_count": 360,
     "metadata": {},
     "output_type": "execute_result"
    }
   ],
   "source": [
    "X_train.shape"
   ]
  },
  {
   "cell_type": "code",
   "execution_count": 357,
   "metadata": {},
   "outputs": [
    {
     "data": {
      "text/html": [
       "<div>\n",
       "<style>\n",
       "    .dataframe thead tr:only-child th {\n",
       "        text-align: right;\n",
       "    }\n",
       "\n",
       "    .dataframe thead th {\n",
       "        text-align: left;\n",
       "    }\n",
       "\n",
       "    .dataframe tbody tr th {\n",
       "        vertical-align: top;\n",
       "    }\n",
       "</style>\n",
       "<table border=\"1\" class=\"dataframe\">\n",
       "  <thead>\n",
       "    <tr style=\"text-align: right;\">\n",
       "      <th></th>\n",
       "      <th>成交股數</th>\n",
       "      <th>開盤價</th>\n",
       "      <th>最高價</th>\n",
       "      <th>最低價</th>\n",
       "      <th>收盤價</th>\n",
       "      <th>日期</th>\n",
       "    </tr>\n",
       "  </thead>\n",
       "  <tbody>\n",
       "    <tr>\n",
       "      <th>0</th>\n",
       "      <td>2435.0</td>\n",
       "      <td>19.45</td>\n",
       "      <td>20.40</td>\n",
       "      <td>19.15</td>\n",
       "      <td>19.80</td>\n",
       "      <td>20080102</td>\n",
       "    </tr>\n",
       "    <tr>\n",
       "      <th>1</th>\n",
       "      <td>468.0</td>\n",
       "      <td>19.40</td>\n",
       "      <td>19.80</td>\n",
       "      <td>19.20</td>\n",
       "      <td>19.60</td>\n",
       "      <td>20080103</td>\n",
       "    </tr>\n",
       "    <tr>\n",
       "      <th>2</th>\n",
       "      <td>1804.0</td>\n",
       "      <td>19.40</td>\n",
       "      <td>20.30</td>\n",
       "      <td>19.20</td>\n",
       "      <td>20.05</td>\n",
       "      <td>20080104</td>\n",
       "    </tr>\n",
       "    <tr>\n",
       "      <th>3</th>\n",
       "      <td>1644.0</td>\n",
       "      <td>19.50</td>\n",
       "      <td>20.15</td>\n",
       "      <td>19.05</td>\n",
       "      <td>19.60</td>\n",
       "      <td>20080107</td>\n",
       "    </tr>\n",
       "    <tr>\n",
       "      <th>4</th>\n",
       "      <td>1203.0</td>\n",
       "      <td>19.50</td>\n",
       "      <td>20.30</td>\n",
       "      <td>19.40</td>\n",
       "      <td>19.90</td>\n",
       "      <td>20080108</td>\n",
       "    </tr>\n",
       "    <tr>\n",
       "      <th>5</th>\n",
       "      <td>577.0</td>\n",
       "      <td>19.50</td>\n",
       "      <td>19.80</td>\n",
       "      <td>19.35</td>\n",
       "      <td>19.75</td>\n",
       "      <td>20080109</td>\n",
       "    </tr>\n",
       "    <tr>\n",
       "      <th>6</th>\n",
       "      <td>1298.0</td>\n",
       "      <td>19.90</td>\n",
       "      <td>20.35</td>\n",
       "      <td>19.55</td>\n",
       "      <td>19.75</td>\n",
       "      <td>20080110</td>\n",
       "    </tr>\n",
       "    <tr>\n",
       "      <th>7</th>\n",
       "      <td>560.0</td>\n",
       "      <td>19.70</td>\n",
       "      <td>19.85</td>\n",
       "      <td>19.40</td>\n",
       "      <td>19.85</td>\n",
       "      <td>20080111</td>\n",
       "    </tr>\n",
       "    <tr>\n",
       "      <th>8</th>\n",
       "      <td>5680.0</td>\n",
       "      <td>21.20</td>\n",
       "      <td>21.20</td>\n",
       "      <td>20.55</td>\n",
       "      <td>21.20</td>\n",
       "      <td>20080114</td>\n",
       "    </tr>\n",
       "    <tr>\n",
       "      <th>9</th>\n",
       "      <td>5078.0</td>\n",
       "      <td>22.40</td>\n",
       "      <td>22.65</td>\n",
       "      <td>22.00</td>\n",
       "      <td>22.65</td>\n",
       "      <td>20080115</td>\n",
       "    </tr>\n",
       "    <tr>\n",
       "      <th>10</th>\n",
       "      <td>12826.0</td>\n",
       "      <td>23.20</td>\n",
       "      <td>24.20</td>\n",
       "      <td>23.15</td>\n",
       "      <td>23.80</td>\n",
       "      <td>20080116</td>\n",
       "    </tr>\n",
       "    <tr>\n",
       "      <th>11</th>\n",
       "      <td>3573.0</td>\n",
       "      <td>23.50</td>\n",
       "      <td>23.80</td>\n",
       "      <td>22.30</td>\n",
       "      <td>23.10</td>\n",
       "      <td>20080117</td>\n",
       "    </tr>\n",
       "    <tr>\n",
       "      <th>12</th>\n",
       "      <td>5024.0</td>\n",
       "      <td>22.05</td>\n",
       "      <td>24.70</td>\n",
       "      <td>22.00</td>\n",
       "      <td>24.70</td>\n",
       "      <td>20080118</td>\n",
       "    </tr>\n",
       "    <tr>\n",
       "      <th>13</th>\n",
       "      <td>2215.0</td>\n",
       "      <td>25.80</td>\n",
       "      <td>26.40</td>\n",
       "      <td>25.40</td>\n",
       "      <td>26.40</td>\n",
       "      <td>20080121</td>\n",
       "    </tr>\n",
       "    <tr>\n",
       "      <th>14</th>\n",
       "      <td>9634.0</td>\n",
       "      <td>25.00</td>\n",
       "      <td>26.90</td>\n",
       "      <td>25.00</td>\n",
       "      <td>26.00</td>\n",
       "      <td>20080122</td>\n",
       "    </tr>\n",
       "    <tr>\n",
       "      <th>15</th>\n",
       "      <td>4884.0</td>\n",
       "      <td>26.80</td>\n",
       "      <td>26.80</td>\n",
       "      <td>24.20</td>\n",
       "      <td>24.20</td>\n",
       "      <td>20080123</td>\n",
       "    </tr>\n",
       "    <tr>\n",
       "      <th>16</th>\n",
       "      <td>8080.0</td>\n",
       "      <td>24.60</td>\n",
       "      <td>25.40</td>\n",
       "      <td>23.60</td>\n",
       "      <td>24.30</td>\n",
       "      <td>20080124</td>\n",
       "    </tr>\n",
       "    <tr>\n",
       "      <th>17</th>\n",
       "      <td>4015.0</td>\n",
       "      <td>25.10</td>\n",
       "      <td>25.10</td>\n",
       "      <td>24.10</td>\n",
       "      <td>24.70</td>\n",
       "      <td>20080125</td>\n",
       "    </tr>\n",
       "    <tr>\n",
       "      <th>18</th>\n",
       "      <td>10598.0</td>\n",
       "      <td>24.90</td>\n",
       "      <td>26.40</td>\n",
       "      <td>24.90</td>\n",
       "      <td>25.75</td>\n",
       "      <td>20080128</td>\n",
       "    </tr>\n",
       "    <tr>\n",
       "      <th>19</th>\n",
       "      <td>6694.0</td>\n",
       "      <td>26.00</td>\n",
       "      <td>26.15</td>\n",
       "      <td>23.95</td>\n",
       "      <td>25.75</td>\n",
       "      <td>20080129</td>\n",
       "    </tr>\n",
       "    <tr>\n",
       "      <th>20</th>\n",
       "      <td>3856.0</td>\n",
       "      <td>25.40</td>\n",
       "      <td>25.75</td>\n",
       "      <td>24.50</td>\n",
       "      <td>25.00</td>\n",
       "      <td>20080130</td>\n",
       "    </tr>\n",
       "    <tr>\n",
       "      <th>21</th>\n",
       "      <td>3282.0</td>\n",
       "      <td>25.00</td>\n",
       "      <td>26.10</td>\n",
       "      <td>24.50</td>\n",
       "      <td>26.10</td>\n",
       "      <td>20080131</td>\n",
       "    </tr>\n",
       "    <tr>\n",
       "      <th>22</th>\n",
       "      <td>6989.0</td>\n",
       "      <td>26.80</td>\n",
       "      <td>27.90</td>\n",
       "      <td>26.55</td>\n",
       "      <td>27.90</td>\n",
       "      <td>20080201</td>\n",
       "    </tr>\n",
       "    <tr>\n",
       "      <th>23</th>\n",
       "      <td>9408.0</td>\n",
       "      <td>27.90</td>\n",
       "      <td>29.85</td>\n",
       "      <td>27.90</td>\n",
       "      <td>29.20</td>\n",
       "      <td>20080212</td>\n",
       "    </tr>\n",
       "    <tr>\n",
       "      <th>24</th>\n",
       "      <td>3089.0</td>\n",
       "      <td>28.50</td>\n",
       "      <td>29.00</td>\n",
       "      <td>28.00</td>\n",
       "      <td>28.20</td>\n",
       "      <td>20080213</td>\n",
       "    </tr>\n",
       "    <tr>\n",
       "      <th>25</th>\n",
       "      <td>3986.0</td>\n",
       "      <td>27.80</td>\n",
       "      <td>29.00</td>\n",
       "      <td>27.60</td>\n",
       "      <td>28.40</td>\n",
       "      <td>20080214</td>\n",
       "    </tr>\n",
       "    <tr>\n",
       "      <th>26</th>\n",
       "      <td>2970.0</td>\n",
       "      <td>28.00</td>\n",
       "      <td>29.30</td>\n",
       "      <td>28.00</td>\n",
       "      <td>29.00</td>\n",
       "      <td>20080215</td>\n",
       "    </tr>\n",
       "    <tr>\n",
       "      <th>27</th>\n",
       "      <td>2859.0</td>\n",
       "      <td>29.30</td>\n",
       "      <td>29.45</td>\n",
       "      <td>28.35</td>\n",
       "      <td>29.00</td>\n",
       "      <td>20080218</td>\n",
       "    </tr>\n",
       "    <tr>\n",
       "      <th>28</th>\n",
       "      <td>5736.0</td>\n",
       "      <td>29.50</td>\n",
       "      <td>30.40</td>\n",
       "      <td>28.50</td>\n",
       "      <td>29.00</td>\n",
       "      <td>20080219</td>\n",
       "    </tr>\n",
       "    <tr>\n",
       "      <th>29</th>\n",
       "      <td>2649.0</td>\n",
       "      <td>29.00</td>\n",
       "      <td>29.10</td>\n",
       "      <td>28.00</td>\n",
       "      <td>28.40</td>\n",
       "      <td>20080220</td>\n",
       "    </tr>\n",
       "  </tbody>\n",
       "</table>\n",
       "</div>"
      ],
      "text/plain": [
       "       成交股數    開盤價    最高價    最低價    收盤價        日期\n",
       "0    2435.0  19.45  20.40  19.15  19.80  20080102\n",
       "1     468.0  19.40  19.80  19.20  19.60  20080103\n",
       "2    1804.0  19.40  20.30  19.20  20.05  20080104\n",
       "3    1644.0  19.50  20.15  19.05  19.60  20080107\n",
       "4    1203.0  19.50  20.30  19.40  19.90  20080108\n",
       "5     577.0  19.50  19.80  19.35  19.75  20080109\n",
       "6    1298.0  19.90  20.35  19.55  19.75  20080110\n",
       "7     560.0  19.70  19.85  19.40  19.85  20080111\n",
       "8    5680.0  21.20  21.20  20.55  21.20  20080114\n",
       "9    5078.0  22.40  22.65  22.00  22.65  20080115\n",
       "10  12826.0  23.20  24.20  23.15  23.80  20080116\n",
       "11   3573.0  23.50  23.80  22.30  23.10  20080117\n",
       "12   5024.0  22.05  24.70  22.00  24.70  20080118\n",
       "13   2215.0  25.80  26.40  25.40  26.40  20080121\n",
       "14   9634.0  25.00  26.90  25.00  26.00  20080122\n",
       "15   4884.0  26.80  26.80  24.20  24.20  20080123\n",
       "16   8080.0  24.60  25.40  23.60  24.30  20080124\n",
       "17   4015.0  25.10  25.10  24.10  24.70  20080125\n",
       "18  10598.0  24.90  26.40  24.90  25.75  20080128\n",
       "19   6694.0  26.00  26.15  23.95  25.75  20080129\n",
       "20   3856.0  25.40  25.75  24.50  25.00  20080130\n",
       "21   3282.0  25.00  26.10  24.50  26.10  20080131\n",
       "22   6989.0  26.80  27.90  26.55  27.90  20080201\n",
       "23   9408.0  27.90  29.85  27.90  29.20  20080212\n",
       "24   3089.0  28.50  29.00  28.00  28.20  20080213\n",
       "25   3986.0  27.80  29.00  27.60  28.40  20080214\n",
       "26   2970.0  28.00  29.30  28.00  29.00  20080215\n",
       "27   2859.0  29.30  29.45  28.35  29.00  20080218\n",
       "28   5736.0  29.50  30.40  28.50  29.00  20080219\n",
       "29   2649.0  29.00  29.10  28.00  28.40  20080220"
      ]
     },
     "execution_count": 357,
     "metadata": {},
     "output_type": "execute_result"
    }
   ],
   "source": [
    "stock_df.head(n = 30)"
   ]
  },
  {
   "cell_type": "code",
   "execution_count": 358,
   "metadata": {},
   "outputs": [
    {
     "data": {
      "text/plain": [
       "(302, 20, 6)"
      ]
     },
     "execution_count": 358,
     "metadata": {},
     "output_type": "execute_result"
    }
   ],
   "source": [
    "X_test.shape"
   ]
  },
  {
   "cell_type": "code",
   "execution_count": 349,
   "metadata": {},
   "outputs": [
    {
     "data": {
      "text/plain": [
       "array([ 2.65,  4.85,  3.8 , ...,  0.4 ,  0.35,  1.  ])"
      ]
     },
     "execution_count": 349,
     "metadata": {},
     "output_type": "execute_result"
    }
   ],
   "source": [
    "y_train"
   ]
  },
  {
   "cell_type": "code",
   "execution_count": 335,
   "metadata": {},
   "outputs": [
    {
     "data": {
      "text/plain": [
       "(2718, 20, 6)"
      ]
     },
     "execution_count": 335,
     "metadata": {},
     "output_type": "execute_result"
    }
   ],
   "source": [
    "X_train.shape"
   ]
  },
  {
   "cell_type": "code",
   "execution_count": 336,
   "metadata": {},
   "outputs": [
    {
     "data": {
      "text/plain": [
       "(2718,)"
      ]
     },
     "execution_count": 336,
     "metadata": {},
     "output_type": "execute_result"
    }
   ],
   "source": [
    "y_train.shape"
   ]
  },
  {
   "cell_type": "code",
   "execution_count": 337,
   "metadata": {},
   "outputs": [
    {
     "data": {
      "text/plain": [
       "array([ 2.6,  4.9,  3.8, ...,  0.4,  0.4,  1. ])"
      ]
     },
     "execution_count": 337,
     "metadata": {},
     "output_type": "execute_result"
    }
   ],
   "source": [
    "y_train"
   ]
  },
  {
   "cell_type": "code",
   "execution_count": 338,
   "metadata": {},
   "outputs": [
    {
     "data": {
      "text/plain": [
       "2.6499999999999986"
      ]
     },
     "execution_count": 338,
     "metadata": {},
     "output_type": "execute_result"
    }
   ],
   "source": [
    "temp = test_set[0]\n",
    "temp"
   ]
  },
  {
   "cell_type": "code",
   "execution_count": 339,
   "metadata": {},
   "outputs": [
    {
     "data": {
      "text/html": [
       "<div>\n",
       "<style>\n",
       "    .dataframe thead tr:only-child th {\n",
       "        text-align: right;\n",
       "    }\n",
       "\n",
       "    .dataframe thead th {\n",
       "        text-align: left;\n",
       "    }\n",
       "\n",
       "    .dataframe tbody tr th {\n",
       "        vertical-align: top;\n",
       "    }\n",
       "</style>\n",
       "<table border=\"1\" class=\"dataframe\">\n",
       "  <thead>\n",
       "    <tr style=\"text-align: right;\">\n",
       "      <th></th>\n",
       "      <th>Unnamed: 0</th>\n",
       "      <th>證券代號</th>\n",
       "      <th>成交股數</th>\n",
       "      <th>開盤價</th>\n",
       "      <th>最高價</th>\n",
       "      <th>最低價</th>\n",
       "      <th>收盤價</th>\n",
       "      <th>日期</th>\n",
       "    </tr>\n",
       "  </thead>\n",
       "  <tbody>\n",
       "    <tr>\n",
       "      <th>0</th>\n",
       "      <td>69</td>\n",
       "      <td>1419</td>\n",
       "      <td>2434795</td>\n",
       "      <td>19.45</td>\n",
       "      <td>20.40</td>\n",
       "      <td>19.15</td>\n",
       "      <td>19.80</td>\n",
       "      <td>20080102</td>\n",
       "    </tr>\n",
       "    <tr>\n",
       "      <th>1</th>\n",
       "      <td>785</td>\n",
       "      <td>1419</td>\n",
       "      <td>467867</td>\n",
       "      <td>19.40</td>\n",
       "      <td>19.80</td>\n",
       "      <td>19.20</td>\n",
       "      <td>19.60</td>\n",
       "      <td>20080103</td>\n",
       "    </tr>\n",
       "    <tr>\n",
       "      <th>2</th>\n",
       "      <td>1500</td>\n",
       "      <td>1419</td>\n",
       "      <td>1804486</td>\n",
       "      <td>19.40</td>\n",
       "      <td>20.30</td>\n",
       "      <td>19.20</td>\n",
       "      <td>20.05</td>\n",
       "      <td>20080104</td>\n",
       "    </tr>\n",
       "    <tr>\n",
       "      <th>3</th>\n",
       "      <td>2216</td>\n",
       "      <td>1419</td>\n",
       "      <td>1643662</td>\n",
       "      <td>19.50</td>\n",
       "      <td>20.15</td>\n",
       "      <td>19.05</td>\n",
       "      <td>19.60</td>\n",
       "      <td>20080107</td>\n",
       "    </tr>\n",
       "    <tr>\n",
       "      <th>4</th>\n",
       "      <td>2932</td>\n",
       "      <td>1419</td>\n",
       "      <td>1202742</td>\n",
       "      <td>19.50</td>\n",
       "      <td>20.30</td>\n",
       "      <td>19.40</td>\n",
       "      <td>19.90</td>\n",
       "      <td>20080108</td>\n",
       "    </tr>\n",
       "  </tbody>\n",
       "</table>\n",
       "</div>"
      ],
      "text/plain": [
       "   Unnamed: 0  證券代號     成交股數    開盤價    最高價    最低價    收盤價        日期\n",
       "0          69  1419  2434795  19.45  20.40  19.15  19.80  20080102\n",
       "1         785  1419   467867  19.40  19.80  19.20  19.60  20080103\n",
       "2        1500  1419  1804486  19.40  20.30  19.20  20.05  20080104\n",
       "3        2216  1419  1643662  19.50  20.15  19.05  19.60  20080107\n",
       "4        2932  1419  1202742  19.50  20.30  19.40  19.90  20080108"
      ]
     },
     "execution_count": 339,
     "metadata": {},
     "output_type": "execute_result"
    }
   ],
   "source": [
    "stock_df_orig.head()"
   ]
  },
  {
   "cell_type": "code",
   "execution_count": null,
   "metadata": {
    "collapsed": true
   },
   "outputs": [],
   "source": []
  },
  {
   "cell_type": "code",
   "execution_count": 361,
   "metadata": {
    "collapsed": true
   },
   "outputs": [],
   "source": []
  },
  {
   "cell_type": "code",
   "execution_count": 362,
   "metadata": {
    "collapsed": true
   },
   "outputs": [],
   "source": []
  },
  {
   "cell_type": "code",
   "execution_count": null,
   "metadata": {},
   "outputs": [],
   "source": []
  },
  {
   "cell_type": "code",
   "execution_count": null,
   "metadata": {},
   "outputs": [],
   "source": []
  },
  {
   "cell_type": "code",
   "execution_count": null,
   "metadata": {},
   "outputs": [],
   "source": []
  },
  {
   "cell_type": "code",
   "execution_count": null,
   "metadata": {
    "collapsed": true
   },
   "outputs": [],
   "source": []
  }
 ],
 "metadata": {
  "kernelspec": {
   "display_name": "Python 3",
   "language": "python",
   "name": "python3"
  },
  "language_info": {
   "codemirror_mode": {
    "name": "ipython",
    "version": 3
   },
   "file_extension": ".py",
   "mimetype": "text/x-python",
   "name": "python",
   "nbconvert_exporter": "python",
   "pygments_lexer": "ipython3",
   "version": "3.6.1"
  }
 },
 "nbformat": 4,
 "nbformat_minor": 2
}
